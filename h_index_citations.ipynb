{
 "cells": [
  {
   "cell_type": "markdown",
   "metadata": {},
   "source": [
    "###  Time Compexity : O(n) \n",
    "### Space Complexity : O(n)"
   ]
  },
  {
   "cell_type": "code",
   "execution_count": null,
   "metadata": {},
   "outputs": [],
   "source": [
    "input_arr = [int(x) for x in input().split()]\n",
    "length = len(input_arr)\n",
    "carry_sum = 0\n",
    "compute_arr = [0] * length\n",
    "for ele in range(length):\n",
    "    index = input_arr[ele] \n",
    "    if index >= length:\n",
    "        carry_sum += 1\n",
    "    else:\n",
    "        compute_arr[index] += 1\n",
    "\n",
    "h_index_sum = carry_sum\n",
    "ans = 1\n",
    "for index in range(length-1,-1,-1):\n",
    "    if h_index_sum >= index:\n",
    "        ans = index+1\n",
    "        break\n",
    "    else:\n",
    "        h_index_sum += compute_arr[index]\n",
    "print(ans)"
   ]
  },
  {
   "cell_type": "markdown",
   "metadata": {},
   "source": [
    "###  Time Compexity : O(nlogn) \n",
    "### Space Complexity : O(1)"
   ]
  },
  {
   "cell_type": "code",
   "execution_count": null,
   "metadata": {},
   "outputs": [],
   "source": [
    "input_arr = [int(x) for x in input().split()]\n",
    "length = len(input_arr)\n",
    "ans = 0\n",
    "input_arr.sort()\n",
    "for i, c in enumerate(input_arr):\n",
    "    if c >= length - i:\n",
    "        ans = c\n",
    "        break\n",
    "print(ans)"
   ]
  },
  {
   "cell_type": "markdown",
   "metadata": {},
   "source": [
    "###  Time Compexity : O(n) \n",
    "### Space Complexity : O(1)"
   ]
  },
  {
   "cell_type": "code",
   "execution_count": null,
   "metadata": {},
   "outputs": [],
   "source": [
    "input_arr = [int(x) for x in input().split()]\n",
    "length = len(input_arr)\n",
    "carry_sum = 0\n",
    "for ele in input_arr:\n",
    "    if ele >= length:\n",
    "        carry_sum -= 1\n",
    "    else:\n",
    "        curr_index = ele - 1\n",
    "        index = length\n",
    "        while curr_index != index:\n",
    "            if input_arr[curr_index] < 0:\n",
    "                input_arr[curr_index] -= 1\n",
    "                curr_index = length\n",
    "            else:\n",
    "                curr_index = input_arr[curr_index] - 1"
   ]
  },
  {
   "cell_type": "code",
   "execution_count": null,
   "metadata": {},
   "outputs": [],
   "source": []
  }
 ],
 "metadata": {
  "kernelspec": {
   "display_name": "Python 3",
   "language": "python",
   "name": "python3"
  },
  "language_info": {
   "codemirror_mode": {
    "name": "ipython",
    "version": 3
   },
   "file_extension": ".py",
   "mimetype": "text/x-python",
   "name": "python",
   "nbconvert_exporter": "python",
   "pygments_lexer": "ipython3",
   "version": "3.6.8"
  }
 },
 "nbformat": 4,
 "nbformat_minor": 2
}
